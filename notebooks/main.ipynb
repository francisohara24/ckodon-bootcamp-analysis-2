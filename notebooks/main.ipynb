{
 "cells": [
  {
   "cell_type": "markdown",
   "source": [
    "# SAT Bootcamp Analysis 2\n",
    "### Goal:\n",
    "Evenly divide new Ckodon students into random groups of 30.\n",
    "Assign group labels from I to Z.\n",
    "\n",
    "### Steps\n",
    "1. Import Google Form data into Pandas DataFrame.\n",
    "2. Clean the data:\n",
    "    A. Clean leading and trailing white space from all string columns.\n",
    "    B. Search for and print out duplicate rows.\n",
    "    C. Search for and print out invalid email addresses.\n",
    "3. Group the students:\n",
    "    A. Define function for randomly assigning groups.\n",
    "    B. Create \\`SAT Group\\` column and assign groups in column.\n",
    "    C. Sort students by group.\n",
    "4. Export resulting DataFrame to Excel Workbook.\n",
    "\n",
    "Future\n",
    "1. Replace group naming with dictionary comprehension\n",
    "2. Remove duplicates after white space extraction\n",
    "3. Move code for sending email to different module.\n",
    "4. Remove hardcoded WhatsApp links plus app password."
   ],
   "metadata": {
    "collapsed": false
   }
  },
  {
   "cell_type": "markdown",
   "source": [
    "## Import Google Form data"
   ],
   "metadata": {
    "collapsed": false
   }
  },
  {
   "cell_type": "code",
   "execution_count": null,
   "outputs": [],
   "source": [
    "# import required modules\n",
    "import pandas as pd\n",
    "from random import randint\n",
    "\n",
    "# import students\n",
    "students_bf = pd.read_excel(\"../data/Ckodon Activity Review Form - Before (Responses).xlsx\")\n",
    "students_ng = pd.read_excel(\"../data/Ckodon Activity Review Form - No Group (Responses).xlsx\")\n",
    "\n",
    "\n",
    "# test import success\n",
    "print(students_bf.head())\n",
    "print(students_ng.head())"
   ],
   "metadata": {
    "collapsed": false
   }
  },
  {
   "cell_type": "markdown",
   "source": [
    "## Clean the data"
   ],
   "metadata": {
    "collapsed": false
   }
  },
  {
   "cell_type": "markdown",
   "source": [
    "### Remove leading and trailing white space from all string columns.\n",
    "Remove leading and trailing whitespace from the `Full Name` and `Email` column.\n"
   ],
   "metadata": {
    "collapsed": false
   }
  },
  {
   "cell_type": "code",
   "execution_count": 2,
   "outputs": [],
   "source": [
    "students_bf[\"Full Name\"] = students_bf[\"Full Name\"].apply(str.strip)\n",
    "students_bf[\"Email\"] = students_bf[\"Email\"].apply(str.strip)\n",
    "students_ng[\"Full Name\"] = students_ng[\"Full Name\"].apply(str.strip)\n",
    "students_ng[\"Email\"] = students_ng[\"Email\"].apply(str.strip)"
   ],
   "metadata": {
    "collapsed": false,
    "ExecuteTime": {
     "end_time": "2023-07-20T20:05:00.315845600Z",
     "start_time": "2023-07-20T20:05:00.300311600Z"
    }
   }
  },
  {
   "cell_type": "markdown",
   "source": [
    "### Search and print out duplicate rows\n",
    "Identify all rows with the same Full Name and Email or Full Name and WhatsApp Number.\n",
    "Duplicate rows will be manually inspected in MS Excel and removed from the data set after identification.\n"
   ],
   "metadata": {
    "collapsed": false
   }
  },
  {
   "cell_type": "code",
   "execution_count": 3,
   "outputs": [],
   "source": [
    "# define function for finding duplicates\n",
    "def print_duplicates(dataframe):\n",
    "    \"\"\"Prints all duplicate rows in `dataframe`.\n",
    "\n",
    "    Parameters\n",
    "    ==========\n",
    "    dataframe_ : pandas.core.frame.DataFrame\n",
    "        A pandas DataFrame containing each student's information.\n",
    "\n",
    "    Returns\n",
    "    =======\n",
    "    None\n",
    "    \"\"\"\n",
    "    # create copy of `dataframe`\n",
    "    dataframe_cp = dataframe.copy()\n",
    "\n",
    "    # extract relevant columns as lists for easy searching\n",
    "    dataframe_cp[\"Full Name\"] = dataframe_cp[\"Full Name\"].apply(str.lower)  # remove casing\n",
    "    dataframe_cp[\"Email\"] = dataframe_cp[\"Full Name\"].apply(str.lower)  # remove casing\n",
    "    names = [name.lower() for name in dataframe_cp[\"Full Name\"]]\n",
    "    emails = [email.lower() for email in dataframe_cp[\"Email\"]]\n",
    "    whatsapp_nos = list(dataframe_cp[\"WhatsApp Number\"])\n",
    "\n",
    "    for row in dataframe_cp.index:\n",
    "        name = dataframe_cp.loc[row][\"Full Name\"]\n",
    "        email = dataframe_cp.loc[row][\"Email\"]\n",
    "        whatsapp_no = dataframe_cp.loc[row][\"WhatsApp Number\"]\n",
    "        row_excel = row + 2  # row number in MS Excel\n",
    "\n",
    "        if names.count(name) > 1:\n",
    "            if emails.count(email) > 1 or whatsapp_nos.count(whatsapp_no) > 1:\n",
    "                no_of_duplicates = names.count(name)\n",
    "                print(\n",
    "                    f\"DUPLICATE FOUND ({no_of_duplicates}): {row_excel} {dataframe['Full Name'][row]} {whatsapp_no} {dataframe['Email'][row]}\")"
   ],
   "metadata": {
    "collapsed": false,
    "ExecuteTime": {
     "end_time": "2023-07-20T20:05:04.409588900Z",
     "start_time": "2023-07-20T20:05:04.395117Z"
    }
   }
  },
  {
   "cell_type": "code",
   "execution_count": null,
   "outputs": [],
   "source": [
    "# search duplicate values from `students_bf`\n",
    "print(\"----------Searching-STUDENTS_BF--------------\")\n",
    "print_duplicates(students_bf)\n",
    "\n",
    "# search duplicate values from `students_ng`\n",
    "print(\"\\n\\n----------Searching-STUDENTS_NG--------------\")\n",
    "print_duplicates(students_ng)"
   ],
   "metadata": {
    "collapsed": false
   }
  },
  {
   "cell_type": "code",
   "execution_count": null,
   "outputs": [],
   "source": [
    "# merge and search duplicates across sheets (after removing duplicates manually)\n",
    "students = pd.concat([students_bf, students_ng], ignore_index=True)\n",
    "\n",
    "print(\"----------Searching-STUDENTS_BF-and-STUDENTS_NG--------------\")\n",
    "print_duplicates(students)"
   ],
   "metadata": {
    "collapsed": false
   }
  },
  {
   "cell_type": "markdown",
   "source": [
    "### Search and print out invalid email addresses\n",
    "Crucial as each student's group will be sent to them via email."
   ],
   "metadata": {
    "collapsed": false
   }
  },
  {
   "cell_type": "code",
   "execution_count": 6,
   "outputs": [],
   "source": [
    "# define function for validating email addresses\n",
    "from re import search\n",
    "\n",
    "\n",
    "def validate_address(email):\n",
    "    \"\"\"Return True if `email` is valid or False otherwise.\n",
    "\n",
    "    Parameters\n",
    "    ==========\n",
    "    email: str\n",
    "        The email address to be validated.\n",
    "\n",
    "    Returns\n",
    "    =======\n",
    "    bool\n",
    "        True means email address is valid. False means email address is invalid.\n",
    "    \"\"\"\n",
    "\n",
    "    pattern = \"[a-zA-Z0-9\\-.+_]+@[a-zA-Z0-9\\-.+_]+\\.[a-zA-Z]{2,}\"\n",
    "    match = search(pattern, email)\n",
    "    return bool(match)"
   ],
   "metadata": {
    "collapsed": false,
    "ExecuteTime": {
     "end_time": "2023-07-20T20:05:23.742818400Z",
     "start_time": "2023-07-20T20:05:23.728807600Z"
    }
   }
  },
  {
   "cell_type": "code",
   "execution_count": null,
   "outputs": [],
   "source": [
    "# call function on all addresses in email column\n",
    "\n",
    "# students_bf\n",
    "print(\"-------Invalid addresses in `students_bf`--------\")\n",
    "for row in students_bf.index:\n",
    "    email = students_bf.loc[row][\"Email\"]\n",
    "    if not validate_address(email):\n",
    "        print(students_bf.loc[row])\n",
    "\n",
    "# students_ng\n",
    "print(\"-------Invalid addresses in `students_ng`--------\")\n",
    "for row in students_ng.index:\n",
    "    email = students_ng.loc[row][\"Email\"]\n",
    "    if not validate_address(email):\n",
    "        print(students_ng.loc[row])"
   ],
   "metadata": {
    "collapsed": false
   }
  },
  {
   "cell_type": "markdown",
   "source": [
    "## Group the students"
   ],
   "metadata": {
    "collapsed": false
   }
  },
  {
   "cell_type": "markdown",
   "source": [
    "### Define function for randomly assigning groups"
   ],
   "metadata": {
    "collapsed": false
   }
  },
  {
   "cell_type": "code",
   "execution_count": 12,
   "outputs": [],
   "source": [
    "# recursive random number generator without repetition\n",
    "previous = []\n",
    "\n",
    "\n",
    "def generate(a, b):\n",
    "    \"\"\"Returns pseudorandom integer between a and b if not already contained in a global list with name `previous`.\n",
    "\n",
    "    Parameters\n",
    "    ==========\n",
    "    a : int\n",
    "        Lower bound of the range within which generated number may lie (inclusive).\n",
    "    b : int\n",
    "        Upper bound of the range within which generated number may lie (inclusive).\n",
    "\n",
    "    Returns\n",
    "    =======\n",
    "    int\n",
    "        A pseudorandom number between a and b inclusive whose value is not already contained in `previous` list.\n",
    "    \"\"\"\n",
    "    number = randint(a, b)\n",
    "    if number not in previous:\n",
    "        previous.append(number)\n",
    "        return number\n",
    "    else:\n",
    "        return generate(a, b)"
   ],
   "metadata": {
    "collapsed": false,
    "ExecuteTime": {
     "end_time": "2023-07-20T20:09:29.537551400Z",
     "start_time": "2023-07-20T20:09:29.524540100Z"
    }
   }
  },
  {
   "cell_type": "markdown",
   "source": [
    "### Create \\`SAT Group\\` column and assign groups in column"
   ],
   "metadata": {
    "collapsed": false
   }
  },
  {
   "cell_type": "code",
   "execution_count": 9,
   "outputs": [],
   "source": [
    "# Create SAT Group column\n",
    "students_bf[\"SAT Group\"] = None\n",
    "students_ng[\"SAT Group\"] = None"
   ],
   "metadata": {
    "collapsed": false,
    "ExecuteTime": {
     "end_time": "2023-07-20T20:05:33.671379400Z",
     "start_time": "2023-07-20T20:05:33.653175400Z"
    }
   }
  },
  {
   "cell_type": "code",
   "execution_count": null,
   "outputs": [],
   "source": [
    "# Assign groups for `students_bf`\n",
    "no_of_groups_a = len(students_bf) // 30  # no of groups for students_bf\n",
    "groups = [chr(i + 73) for i in range(no_of_groups_a)]\n",
    "\n",
    "# for the no. of students there are, pick a random student and assign them a group.\n",
    "for i in range(len(students_bf)):\n",
    "    student = generate(0, len(students_bf) - 1)\n",
    "    group = groups[i % len(groups)]\n",
    "    students_bf[\"SAT Group\"][student] = group\n",
    "\n",
    "print(\"---------No-of-Students-per-Group--------\")\n",
    "for group in groups:\n",
    "    print(group, list(students_bf[\"SAT Group\"]).count(group))"
   ],
   "metadata": {
    "collapsed": false
   }
  },
  {
   "cell_type": "code",
   "execution_count": null,
   "outputs": [],
   "source": [
    "# Assign groups for `students_ng`\n",
    "previous = []  # reset `previous` list for random number generator\n",
    "students_ng[\"SAT Group\"] = None  # create new column\n",
    "no_of_groups_b = len(students_ng) // 30  # no of groups for students_bf\n",
    "groups = [chr(i + 73 + no_of_groups_a) for i in range(no_of_groups_b)]\n",
    "\n",
    "# for the no. of students there are, pick a random student and assign them a group.\n",
    "for i in range(len(students_ng)):\n",
    "    student = generate(0, len(students_ng) - 1)\n",
    "    group = groups[i % len(groups)]\n",
    "    students_ng[\"SAT Group\"][student] = group\n",
    "\n",
    "print(\"---------No-of-Students-per-Group--------\")\n",
    "for group in groups:\n",
    "    print(group, list(students_ng[\"SAT Group\"]).count(group))"
   ],
   "metadata": {
    "collapsed": false
   }
  },
  {
   "cell_type": "markdown",
   "source": [
    "### Sort students by group"
   ],
   "metadata": {
    "collapsed": false
   }
  },
  {
   "cell_type": "code",
   "execution_count": null,
   "outputs": [],
   "source": [
    "students_bf.sort_values(\"SAT Group\", inplace=True)\n",
    "students_ng.sort_values(\"SAT Group\", inplace=True)\n",
    "\n",
    "print(students_bf)\n",
    "print(students_ng)"
   ],
   "metadata": {
    "collapsed": false
   }
  },
  {
   "cell_type": "markdown",
   "source": [
    "## Export to Excel Workbook"
   ],
   "metadata": {
    "collapsed": false
   }
  },
  {
   "cell_type": "code",
   "execution_count": 13,
   "outputs": [],
   "source": [
    "students_bf.to_excel(\"../data/output/Ckodon Activity Review Groups(BEFORE).xlsx\", index=False)\n",
    "students_ng.to_excel(\"../data/output/Ckodon Activity Review Groups(NO GROUP).xlsx\", index=False)"
   ],
   "metadata": {
    "collapsed": false,
    "ExecuteTime": {
     "end_time": "2023-07-19T23:49:38.146644Z",
     "start_time": "2023-07-19T23:49:37.897344600Z"
    }
   }
  },
  {
   "cell_type": "markdown",
   "source": [
    "# Email Group Assignments to Students\n",
    "Email appropriate group and WhatsApp group link to each student."
   ],
   "metadata": {
    "collapsed": false
   }
  },
  {
   "cell_type": "code",
   "execution_count": null,
   "outputs": [],
   "source": [
    "from smtplib import SMTP\n",
    "from email.message import EmailMessage\n",
    "\n",
    "# set WhatsApp links for each group\n",
    "whatsapp_link_bf = {\n",
    "                    \"I\": \"xxxxxxxxxxxxxxxxxxxxxxxxxxxxxxxxxxxxxxxxxxxxxxxx\",\n",
    "                    \"J\": \"xxxxxxxxxxxxxxxxxxxxxxxxxxxxxxxxxxxxxxxxxxxxxxxx\",\n",
    "                    \"K\": \"xxxxxxxxxxxxxxxxxxxxxxxxxxxxxxxxxxxxxxxxxxxxxxxx\",\n",
    "                    \"L\": \"xxxxxxxxxxxxxxxxxxxxxxxxxxxxxxxxxxxxxxxxxxxxxxxx\",\n",
    "                    \"M\": \"xxxxxxxxxxxxxxxxxxxxxxxxxxxxxxxxxxxxxxxxxxxxxxxx\"\n",
    "                    }\n",
    "\n",
    "whatsapp_link_ng = {\n",
    "                    \"N\": \"xxxxxxxxxxxxxxxxxxxxxxxxxxxxxxxxxxxxxxxxxxxxxxxx\",\n",
    "                    \"O\": \"xxxxxxxxxxxxxxxxxxxxxxxxxxxxxxxxxxxxxxxxxxxxxxxx\",\n",
    "                    \"P\": \"xxxxxxxxxxxxxxxxxxxxxxxxxxxxxxxxxxxxxxxxxxxxxxxx\",\n",
    "                    \"Q\": \"xxxxxxxxxxxxxxxxxxxxxxxxxxxxxxxxxxxxxxxxxxxxxxxx\",\n",
    "                    \"R\": \"xxxxxxxxxxxxxxxxxxxxxxxxxxxxxxxxxxxxxxxxxxxxxxxx\",\n",
    "                    \"S\": \"xxxxxxxxxxxxxxxxxxxxxxxxxxxxxxxxxxxxxxxxxxxxxxxx\"\n",
    "                    }\n",
    "\n",
    "# instantiate SMTP client\n",
    "server = \"smtp.gmail.com\"\n",
    "port = \"587\"\n",
    "username = \"ckodontech@gmail.com\"\n",
    "password = input(\"Enter the App password you received from Ckodon:\")\n",
    "\n",
    "smtp = SMTP(server, port)\n",
    "smtp.ehlo()\n",
    "smtp.starttls()\n",
    "smtp.login(username, password)"
   ],
   "metadata": {
    "collapsed": false
   }
  },
  {
   "cell_type": "code",
   "execution_count": null,
   "outputs": [],
   "source": [
    "from time import sleep\n",
    "emails_sent = 0  # no. of emails sent so far\n",
    "delay_s = 60  # delay in seconds\n",
    "\n",
    "count = 0\n",
    "# iterate over all students, send emails.\n",
    "for row in students_bf.index:\n",
    "    student_bf = students_bf.loc[row]\n",
    "    msg = EmailMessage()\n",
    "    msg[\"From\"] = \"ckodontech@gmail.com\"\n",
    "    msg[\"To\"] = student_bf[\"Email\"]\n",
    "    msg[\"Subject\"] = \"Your Ckodon Activity Review Group\"\n",
    "    body = f\"\"\"Dear {student_bf[\"Full Name\"].title()},\n",
    "\n",
    "You have been assigned to Ckodon Activity Review Group {student_bf[\"SAT Group\"]}.\n",
    "\n",
    "You may use the link below to join your assigned group on WhatsApp:\n",
    "{whatsapp_link_bf[student_bf[\"SAT Group\"]]}\n",
    "\n",
    "Join the group as soon as possible so that we can begin with the review. This link is meant to be used by you alone. Do not share with any other person.\n",
    "\n",
    "Please do not reply to this email.\n",
    "\n",
    "Best,\n",
    "The Ckodon Foundation Team.\"\"\"\n",
    "    msg.set_content(body)\n",
    "\n",
    "    # send email message\n",
    "    try:\n",
    "        smtp.send_message(msg)\n",
    "        print(\"SENT\")\n",
    "        emails_sent += 1\n",
    "\n",
    "        # wait 30s every 60 emails to avoid Gmail SMTP Error 421\n",
    "        if emails_sent == 60:\n",
    "            emails_sent = 0\n",
    "            sleep(delay_s)\n",
    "    except Exception as exception:\n",
    "        print(\"Exception:\", exception)\n",
    "        print(\"Sending terminated at row number:\", row)\n"
   ],
   "metadata": {
    "collapsed": false
   }
  },
  {
   "cell_type": "code",
   "execution_count": null,
   "outputs": [],
   "source": [
    "emails_sent = 0  # no. of emails sent so far\n",
    "delay_s = 60  # delay in seconds\n",
    "\n",
    "# iterate over all students, send emails.\n",
    "for row in students_ng.index:\n",
    "    student_ng = students_ng.loc[row]\n",
    "    msg = EmailMessage()\n",
    "    msg[\"From\"] = \"ckodontech@gmail.com\"\n",
    "    msg[\"To\"] = student_ng[\"Email\"]\n",
    "    msg[\"Subject\"] = \"Your Ckodon Activity Review Group\"\n",
    "    body = f\"\"\"Dear {student_ng[\"Full Name\"].title()},\n",
    "\n",
    "You have been assigned to Ckodon Activity Review Group {student_ng[\"SAT Group\"]}.\n",
    "\n",
    "You may use the link below to join your assigned group on WhatsApp:\n",
    "{whatsapp_link_ng[student_ng[\"SAT Group\"]]}\n",
    "\n",
    "Join the group as soon as possible so that we can begin with the review. This link is meant to be used by you alone. Do not share with any other person.\n",
    "\n",
    "Please do not reply to this email.\n",
    "\n",
    "Best,\n",
    "The Ckodon Foundation Team.\"\"\"\n",
    "    msg.set_content(body)\n",
    "\n",
    "    # send email message\n",
    "    try:\n",
    "        smtp.send_message(msg)\n",
    "        print(\"SENT\")\n",
    "        emails_sent += 1\n",
    "\n",
    "        # wait 30s every 60 emails to avoid Gmail SMTP Error 421\n",
    "        if emails_sent == 60:\n",
    "            emails_sent = 0\n",
    "            sleep(delay_s)\n",
    "    except Exception as exception:\n",
    "        print(\"Exception:\", exception)\n",
    "        print(\"Sending terminated at row number:\", row)\n"
   ],
   "metadata": {
    "collapsed": false
   }
  }
 ],
 "metadata": {
  "kernelspec": {
   "display_name": "Python 3",
   "language": "python",
   "name": "python3"
  },
  "language_info": {
   "codemirror_mode": {
    "name": "ipython",
    "version": 2
   },
   "file_extension": ".py",
   "mimetype": "text/x-python",
   "name": "python",
   "nbconvert_exporter": "python",
   "pygments_lexer": "ipython2",
   "version": "2.7.6"
  }
 },
 "nbformat": 4,
 "nbformat_minor": 0
}
